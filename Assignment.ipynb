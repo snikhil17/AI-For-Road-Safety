{
  "cells": [
    {
      "cell_type": "markdown",
      "id": "55d7358b",
      "metadata": {
        "id": "55d7358b"
      },
      "source": [
        "# Assignment\n",
        "- Each question carries 5 marks\n",
        "- Marks will be assigned in terms of:\n",
        "    \n",
        "    **1. Expected output**\n",
        "    \n",
        "    **2. Quality and Explainability of code**\n",
        "    \n",
        "    **3. Copied code, if found, will result in 0 marks for that question. To avoid this make as much comments in the code to explain the approach**\n",
        "    \n",
        "## All the best :)\n",
        "\n",
        "### 1. Use range() to print all the even numbers from 0 to 10.\n",
        "\n",
        "\n"
      ]
    },
    {
      "cell_type": "code",
      "execution_count": null,
      "id": "989afdc2",
      "metadata": {
        "colab": {
          "base_uri": "https://localhost:8080/"
        },
        "id": "989afdc2",
        "outputId": "64c13d35-09be-4325-fe2c-c22c08a2aa99"
      },
      "outputs": [
        {
          "output_type": "stream",
          "name": "stdout",
          "text": [
            "1 are odd numbers\n",
            "2 are even numbers\n",
            "3 are odd numbers\n",
            "4 are even numbers\n",
            "5 are odd numbers\n",
            "6 are even numbers\n",
            "7 are odd numbers\n",
            "8 are even numbers\n",
            "9 are odd numbers\n",
            "10 are even numbers\n"
          ]
        }
      ],
      "source": [
        "s = [1,2,3,4,5,6,7,8,9,10]\n",
        "\n",
        "for i in range(len(s)):\n",
        "    if s[i] % 2 == 0 :\n",
        "        print(s[i],'are even numbers')\n",
        "    else:\n",
        "        print(s[i],'are odd numbers')"
      ]
    },
    {
      "cell_type": "markdown",
      "id": "39da77f0",
      "metadata": {
        "id": "39da77f0"
      },
      "source": [
        "### 2. Use a List Comprehension to create a list of all numbers between 1 and 50 that are divisible by 4."
      ]
    },
    {
      "cell_type": "code",
      "execution_count": null,
      "id": "7e36047e",
      "metadata": {
        "colab": {
          "base_uri": "https://localhost:8080/"
        },
        "id": "7e36047e",
        "outputId": "54b58525-c95f-4aad-a125-0dfce3507ddc"
      },
      "outputs": [
        {
          "output_type": "execute_result",
          "data": {
            "text/plain": [
              "[4, 8, 12, 16, 20, 24, 28, 32, 36, 40, 44, 48]"
            ]
          },
          "metadata": {},
          "execution_count": 2
        }
      ],
      "source": [
        "result = []\n",
        "for i in range(1,51,1):\n",
        "    if i % 4 == 0 :\n",
        "        result.append(i)\n",
        "result"
      ]
    },
    {
      "cell_type": "markdown",
      "id": "f154c6b8",
      "metadata": {
        "id": "f154c6b8"
      },
      "source": [
        "### 3. Go through the string below and if the length of a word is even print \"even!\""
      ]
    },
    {
      "cell_type": "code",
      "execution_count": null,
      "id": "cf3c0d4c",
      "metadata": {
        "colab": {
          "base_uri": "https://localhost:8080/"
        },
        "id": "cf3c0d4c",
        "outputId": "327add7a-0453-4865-baf7-6e2e3a8109d4"
      },
      "outputs": [
        {
          "output_type": "stream",
          "name": "stdout",
          "text": [
            "['I', 'know', 'how', 'to', 'print', 'every', 'word', 'in', 'this', 'sentence', 'that', 'has', 'an', 'even', 'number', 'of', 'letters']\n",
            "\n",
            "know\n",
            "to\n",
            "word\n",
            "in\n",
            "this\n",
            "sentence\n",
            "that\n",
            "an\n",
            "even\n",
            "number\n",
            "of\n"
          ]
        }
      ],
      "source": [
        "string = 'I know how to print every word in this sentence that has an even number of letters'\n",
        "s = string.split(' ')\n",
        "print(s, end = '\\n\\n')\n",
        "for i in s:       \n",
        "    if len(i)%2==0:\n",
        "        print(i)"
      ]
    },
    {
      "cell_type": "markdown",
      "id": "4f4ebe30",
      "metadata": {
        "id": "4f4ebe30"
      },
      "source": [
        "### 4. Write a function ``fizz_buzz`` that prints the integers from 1 to 100. But for multiples of three print \"Fizz\" instead of the number, and for the multiples of five print \"Buzz\". For numbers which are multiples of both three and five print \"FizzBuzz\"."
      ]
    },
    {
      "cell_type": "code",
      "execution_count": null,
      "id": "b2e65457",
      "metadata": {
        "id": "b2e65457"
      },
      "outputs": [],
      "source": [
        "def fizz_buzz(num):\n",
        "    if i % 3 == 0 and i ==5 :\n",
        "        return 'FizzBuzz'\n",
        "    elif  i % 3 == 0 :\n",
        "        return 'Fizz'\n",
        "    elif  i % 5 == 0 :\n",
        "        return 'Buzz'\n",
        "    else:\n",
        "        return num"
      ]
    },
    {
      "cell_type": "code",
      "execution_count": null,
      "id": "cf5152f2",
      "metadata": {
        "colab": {
          "base_uri": "https://localhost:8080/"
        },
        "id": "cf5152f2",
        "outputId": "6d87f985-3493-46b4-e426-6d7b4b4d6e4f"
      },
      "outputs": [
        {
          "output_type": "stream",
          "name": "stdout",
          "text": [
            "Fizz\n",
            "1\n",
            "2\n",
            "Fizz\n",
            "4\n",
            "Buzz\n",
            "Fizz\n",
            "7\n",
            "8\n",
            "Fizz\n",
            "Buzz\n",
            "11\n",
            "Fizz\n",
            "13\n",
            "14\n",
            "Fizz\n",
            "16\n",
            "17\n",
            "Fizz\n",
            "19\n",
            "Buzz\n",
            "Fizz\n",
            "22\n",
            "23\n",
            "Fizz\n",
            "Buzz\n",
            "26\n",
            "Fizz\n",
            "28\n",
            "29\n",
            "Fizz\n",
            "31\n",
            "32\n",
            "Fizz\n",
            "34\n",
            "Buzz\n",
            "Fizz\n",
            "37\n",
            "38\n",
            "Fizz\n",
            "Buzz\n",
            "41\n",
            "Fizz\n",
            "43\n",
            "44\n",
            "Fizz\n",
            "46\n",
            "47\n",
            "Fizz\n",
            "49\n",
            "Buzz\n",
            "Fizz\n",
            "52\n",
            "53\n",
            "Fizz\n",
            "Buzz\n",
            "56\n",
            "Fizz\n",
            "58\n",
            "59\n",
            "Fizz\n",
            "61\n",
            "62\n",
            "Fizz\n",
            "64\n",
            "Buzz\n",
            "Fizz\n",
            "67\n",
            "68\n",
            "Fizz\n",
            "Buzz\n",
            "71\n",
            "Fizz\n",
            "73\n",
            "74\n",
            "Fizz\n",
            "76\n",
            "77\n",
            "Fizz\n",
            "79\n",
            "Buzz\n",
            "Fizz\n",
            "82\n",
            "83\n",
            "Fizz\n",
            "Buzz\n",
            "86\n",
            "Fizz\n",
            "88\n",
            "89\n",
            "Fizz\n",
            "91\n",
            "92\n",
            "Fizz\n",
            "94\n",
            "Buzz\n",
            "Fizz\n",
            "97\n",
            "98\n",
            "Fizz\n"
          ]
        }
      ],
      "source": [
        "for i in range(0,100,1):\n",
        "    print(fizz_buzz(i))\n",
        "\n",
        "### Numebr 15: should be FizzBuzz but prints only Fizz"
      ]
    },
    {
      "cell_type": "markdown",
      "id": "c973c854",
      "metadata": {
        "id": "c973c854"
      },
      "source": [
        "### 5. Create a function ``first_letter`` to create a list of the first letters of every word in the string below"
      ]
    },
    {
      "cell_type": "code",
      "execution_count": null,
      "id": "dc9df68b",
      "metadata": {
        "id": "dc9df68b"
      },
      "outputs": [],
      "source": [
        "string = 'I know how to create a list of the first letters of every word in this string'\n",
        "def first_letter(string) :\n",
        "    words = string.split()\n",
        "    for i in words:\n",
        "        first_char_list = i[0]\n",
        "        print(list(first_char_list))         # why Use List here?"
      ]
    },
    {
      "cell_type": "code",
      "execution_count": null,
      "id": "8cae87f9",
      "metadata": {
        "colab": {
          "base_uri": "https://localhost:8080/"
        },
        "id": "8cae87f9",
        "outputId": "b188219d-fbfa-417b-a868-0a4ae2623e9c"
      },
      "outputs": [
        {
          "output_type": "stream",
          "name": "stdout",
          "text": [
            "['I']\n",
            "['k']\n",
            "['h']\n",
            "['t']\n",
            "['c']\n",
            "['a']\n",
            "['l']\n",
            "['o']\n",
            "['t']\n",
            "['f']\n",
            "['l']\n",
            "['o']\n",
            "['e']\n",
            "['w']\n",
            "['i']\n",
            "['t']\n",
            "['s']\n",
            "None\n"
          ]
        }
      ],
      "source": [
        "print(first_letter(string))"
      ]
    },
    {
      "cell_type": "markdown",
      "id": "edd71fde",
      "metadata": {
        "id": "edd71fde"
      },
      "source": [
        "### 6. Write a function ``match_names`` takes a two-word string and returns True if both words begin with same letter\n",
        "- match_names('Levelheaded Llama') --> True\n",
        "- match_names('Crazy Kangaroo') --> False"
      ]
    },
    {
      "cell_type": "code",
      "execution_count": null,
      "id": "59ac3d70",
      "metadata": {
        "id": "59ac3d70"
      },
      "outputs": [],
      "source": [
        "def match_names(names):\n",
        "    i = names.split()\n",
        "    if i[0][0] == i[1][0]:\n",
        "        return True\n",
        "    if i[0][0] != i[1][0] :\n",
        "        return False"
      ]
    },
    {
      "cell_type": "code",
      "execution_count": null,
      "id": "a3d68709",
      "metadata": {
        "scrolled": true,
        "colab": {
          "base_uri": "https://localhost:8080/"
        },
        "id": "a3d68709",
        "outputId": "06e5e037-d24c-42bf-9218-f90510e6a322"
      },
      "outputs": [
        {
          "name": "stdout",
          "output_type": "stream",
          "text": [
            "Enter your First and Last Name : Crazy Kangaroo\n"
          ]
        }
      ],
      "source": [
        "names = str(input('Enter your First and Last Name : '))"
      ]
    },
    {
      "cell_type": "code",
      "execution_count": null,
      "id": "c06f0152",
      "metadata": {
        "colab": {
          "base_uri": "https://localhost:8080/"
        },
        "id": "c06f0152",
        "outputId": "878ae4b0-cd05-402f-be3c-7a3e4c041eef"
      },
      "outputs": [
        {
          "output_type": "execute_result",
          "data": {
            "text/plain": [
              "False"
            ]
          },
          "metadata": {},
          "execution_count": 19
        }
      ],
      "source": [
        "match_names(names)"
      ]
    },
    {
      "cell_type": "markdown",
      "id": "482fdf0d",
      "metadata": {
        "id": "482fdf0d"
      },
      "source": [
        "### 7. Create a function ``lets_make_twenty`` Given two integers, return True if the sum of the integers is 20 *or* if one of the integers is 20. If not, return False\n",
        "- lets_make_twenty(20,10) --> True\n",
        "- lets_make_twenty(12,8) --> True\n",
        "- lets_make_twenty(2,3) --> False"
      ]
    },
    {
      "cell_type": "code",
      "execution_count": null,
      "id": "8a615f41",
      "metadata": {
        "id": "8a615f41"
      },
      "outputs": [],
      "source": [
        "def Lets_make_twenty(i,j):\n",
        "        if i + j == 20 :\n",
        "            return True\n",
        "        elif i == 20 or j == 20 :\n",
        "            return True\n",
        "        else :\n",
        "            return False"
      ]
    },
    {
      "cell_type": "code",
      "execution_count": null,
      "id": "536a8e43",
      "metadata": {
        "colab": {
          "base_uri": "https://localhost:8080/"
        },
        "id": "536a8e43",
        "outputId": "498437ff-878c-42d9-d0c1-3ac1e25eb634"
      },
      "outputs": [
        {
          "output_type": "execute_result",
          "data": {
            "text/plain": [
              "False"
            ]
          },
          "metadata": {},
          "execution_count": 24
        }
      ],
      "source": [
        "Lets_make_twenty(-19,-1)"
      ]
    },
    {
      "cell_type": "markdown",
      "id": "a6765521",
      "metadata": {
        "id": "a6765521"
      },
      "source": [
        "### 8. Write a function ``capitalize_some`` that capitalizes the first and fourth letters of a name\n",
        "- capitalize_some('macdonald') --> MacDonald"
      ]
    },
    {
      "cell_type": "code",
      "execution_count": null,
      "id": "f4cb2eab",
      "metadata": {
        "colab": {
          "base_uri": "https://localhost:8080/"
        },
        "id": "f4cb2eab",
        "outputId": "a0d29d0d-0ad5-4169-8ce4-82d5f8e56002"
      },
      "outputs": [
        {
          "output_type": "stream",
          "name": "stdout",
          "text": [
            "a\n",
            "c\n",
            "o\n",
            "n\n",
            "a\n",
            "l\n",
            "d\n",
            "MacDonald\n"
          ]
        }
      ],
      "source": [
        "word = 'macdonald'\n",
        "result = ''\n",
        "for i in range(len(word)):\n",
        "    s = str(word[i]).upper()\n",
        "    if i == 0 or i == 3 :\n",
        "        #print(str(word[i]).upper())\n",
        "        result += s\n",
        "    else:\n",
        "        result += str(word[i])\n",
        "        print(word[i])\n",
        "    ## newword.append(word[i])\n",
        "    \n",
        "print(result)\n"
      ]
    },
    {
      "cell_type": "markdown",
      "id": "07ec6c25",
      "metadata": {
        "id": "07ec6c25"
      },
      "source": [
        "### 9. Create a function ``am_i_close`` to check if given an integer ``n``, return True if ``n`` is within 17 of either 100 or 200\n",
        "- am_i_close(90) --> True\n",
        "- am_i_close(104) --> True\n",
        "- am_i_close(150) --> False\n",
        "- am_i_close(209) --> True\n"
      ]
    },
    {
      "cell_type": "code",
      "execution_count": null,
      "id": "0de0134a",
      "metadata": {
        "id": "0de0134a"
      },
      "outputs": [],
      "source": [
        "def am_i_close(n):\n",
        "    return ((abs(100 - n) <= 17) or (abs(200 - n) <= 17))"
      ]
    },
    {
      "cell_type": "code",
      "execution_count": null,
      "id": "25268df3",
      "metadata": {
        "colab": {
          "base_uri": "https://localhost:8080/"
        },
        "id": "25268df3",
        "outputId": "28ddafb8-29be-42f6-b5ff-452799592d2d"
      },
      "outputs": [
        {
          "output_type": "execute_result",
          "data": {
            "text/plain": [
              "True"
            ]
          },
          "metadata": {},
          "execution_count": 27
        }
      ],
      "source": [
        "am_i_close(200)"
      ]
    },
    {
      "cell_type": "markdown",
      "id": "1ae0b014",
      "metadata": {
        "id": "1ae0b014"
      },
      "source": [
        "### 10. Create a function ``lets_find_33`` Given a list of ints, return True if the array contains a 3 next to a 3 somewhere.\n",
        "- lets_find_33([1, 3, 3]) → True\n",
        "- lets_find_33([1, 3, 1, 3]) → False\n",
        "- lets_find_33([3, 1, 3]) → False"
      ]
    },
    {
      "cell_type": "code",
      "execution_count": null,
      "id": "04f8bab7",
      "metadata": {
        "id": "04f8bab7"
      },
      "outputs": [],
      "source": [
        "def lets_find_33(a,b,c):\n",
        "        l = (a,b,c)\n",
        "        if l[0] == 3 and l[1] == 3 :\n",
        "            return True\n",
        "        elif l[1] == 3 and l[2] == 3 :\n",
        "            return True\n",
        "        else :\n",
        "            return False"
      ]
    },
    {
      "cell_type": "code",
      "execution_count": null,
      "id": "57227b3c",
      "metadata": {
        "colab": {
          "base_uri": "https://localhost:8080/",
          "height": 165
        },
        "id": "57227b3c",
        "outputId": "8671a79f-5ca7-49cd-807b-35d1b19eb11d"
      },
      "outputs": [
        {
          "output_type": "error",
          "ename": "TypeError",
          "evalue": "ignored",
          "traceback": [
            "\u001b[0;31m---------------------------------------------------------------------------\u001b[0m",
            "\u001b[0;31mTypeError\u001b[0m                                 Traceback (most recent call last)",
            "\u001b[0;32m<ipython-input-32-a5dffc85d040>\u001b[0m in \u001b[0;36m<module>\u001b[0;34m()\u001b[0m\n\u001b[0;32m----> 1\u001b[0;31m \u001b[0mlets_find_33\u001b[0m\u001b[0;34m(\u001b[0m\u001b[0;36m1\u001b[0m\u001b[0;34m,\u001b[0m\u001b[0;36m2\u001b[0m\u001b[0;34m,\u001b[0m\u001b[0;36m3\u001b[0m\u001b[0;34m,\u001b[0m\u001b[0;36m3\u001b[0m\u001b[0;34m)\u001b[0m \u001b[0;31m# Code only works for 3 parameters. In test cases there is condition with 4 parameters\u001b[0m\u001b[0;34m\u001b[0m\u001b[0;34m\u001b[0m\u001b[0m\n\u001b[0m",
            "\u001b[0;31mTypeError\u001b[0m: lets_find_33() takes 3 positional arguments but 4 were given"
          ]
        }
      ],
      "source": [
        "lets_find_33(1,2,3,3) # Code only works for 3 parameters. In test cases there is condition with 4 parameters"
      ]
    },
    {
      "cell_type": "code",
      "execution_count": null,
      "id": "220b51bb",
      "metadata": {
        "colab": {
          "base_uri": "https://localhost:8080/"
        },
        "id": "220b51bb",
        "outputId": "96d54645-b516-4ca1-b6d0-185925dc0229"
      },
      "outputs": [
        {
          "output_type": "execute_result",
          "data": {
            "text/plain": [
              "4"
            ]
          },
          "metadata": {},
          "execution_count": 30
        }
      ],
      "source": [
        "l = (1,2,3,4)\n",
        "l[1+2]"
      ]
    },
    {
      "cell_type": "code",
      "execution_count": null,
      "id": "4e2842b5",
      "metadata": {
        "id": "4e2842b5"
      },
      "outputs": [],
      "source": [
        "def find_3(a,b,c,d):\n",
        "    l = (a,b,c,d)\n",
        "    i = 0\n",
        "    while i < len(l)-1 :\n",
        "        if l[i] == 3 and l[i+1] == 3 :\n",
        "            return True\n",
        "            break\n",
        "        print(i)\n",
        "        i += 1\n",
        "    return False"
      ]
    },
    {
      "cell_type": "code",
      "execution_count": null,
      "id": "8302479a",
      "metadata": {
        "colab": {
          "base_uri": "https://localhost:8080/",
          "height": 165
        },
        "id": "8302479a",
        "outputId": "17092038-f1ec-437b-cfec-afa7b56c3c3a"
      },
      "outputs": [
        {
          "output_type": "error",
          "ename": "TypeError",
          "evalue": "ignored",
          "traceback": [
            "\u001b[0;31m---------------------------------------------------------------------------\u001b[0m",
            "\u001b[0;31mTypeError\u001b[0m                                 Traceback (most recent call last)",
            "\u001b[0;32m<ipython-input-35-e38beb150313>\u001b[0m in \u001b[0;36m<module>\u001b[0;34m()\u001b[0m\n\u001b[0;32m----> 1\u001b[0;31m \u001b[0mfind_3\u001b[0m\u001b[0;34m(\u001b[0m\u001b[0;36m3\u001b[0m\u001b[0;34m,\u001b[0m\u001b[0;36m1\u001b[0m\u001b[0;34m,\u001b[0m\u001b[0;36m3\u001b[0m\u001b[0;34m)\u001b[0m\u001b[0;34m\u001b[0m\u001b[0;34m\u001b[0m\u001b[0m\n\u001b[0m",
            "\u001b[0;31mTypeError\u001b[0m: find_3() missing 1 required positional argument: 'd'"
          ]
        }
      ],
      "source": [
        "find_3(3,1,3)"
      ]
    },
    {
      "cell_type": "markdown",
      "id": "075ebdd2",
      "metadata": {
        "id": "075ebdd2"
      },
      "source": [
        "### 11.  Create a function ``shout_out`` Given a string, return a string where:\n",
        "- \n",
        "### for every character in the original there are three characters\n",
        "    - shout_out('character') --> 'ccchhhaaarrraaacccttteeerrr'\n",
        "    - shout_out('original') --> 'ooorrriiigggiiinnnaaalll'"
      ]
    },
    {
      "cell_type": "code",
      "execution_count": null,
      "id": "9ba0121a",
      "metadata": {
        "id": "9ba0121a"
      },
      "outputs": [],
      "source": [
        "def shout_out(a):\n",
        "    \n",
        "    n = list(a)\n",
        "    i = 1\n",
        "    for i in range(len(n)):\n",
        "        for j in range(0,3):\n",
        "            print(n[i], end = '')"
      ]
    },
    {
      "cell_type": "code",
      "execution_count": null,
      "id": "882a9b59",
      "metadata": {
        "colab": {
          "base_uri": "https://localhost:8080/"
        },
        "id": "882a9b59",
        "outputId": "1fd68123-9a25-4678-e232-0afae4e378b1"
      },
      "outputs": [
        {
          "output_type": "stream",
          "name": "stdout",
          "text": [
            "OOOrrriiigggiiinnnaaalll"
          ]
        }
      ],
      "source": [
        "a = 'Original'\n",
        "shout_out(a)"
      ]
    },
    {
      "cell_type": "markdown",
      "id": "0df8f91e",
      "metadata": {
        "id": "0df8f91e"
      },
      "source": [
        "### 12. Create a function ``ignore_6_to_9`` that returns the sum of the numbers in the array, except ignore sections of numbers starting with a 6 and extending to the next 9 (every 6 will be followed by at least one 9). Return 0 for no numbers.\n",
        " \n",
        "- ignore_6_to_9([1, 3, 5]) --> 9\n",
        "- ignore_6_to_9([4, 5, 6, 7, 8, 9]) --> 9\n",
        "- ignore_6_to_9([2, 1, 6, 9, 11]) --> 14"
      ]
    },
    {
      "cell_type": "code",
      "execution_count": null,
      "id": "70cea7b0",
      "metadata": {
        "id": "70cea7b0"
      },
      "outputs": [],
      "source": [
        "def ignore_6_to_9(nums):\n",
        "    result=0\n",
        "    if 6  not in nums:\n",
        "        result=result+sum(nums)\n",
        "        return result\n",
        "    elif len(nums)==0:\n",
        "        return 0\n",
        "    else:\n",
        "        return sum(nums)-sum(nums[nums.index(6):nums.index(9)+1])"
      ]
    },
    {
      "cell_type": "code",
      "execution_count": null,
      "id": "ec7c884b",
      "metadata": {
        "colab": {
          "base_uri": "https://localhost:8080/"
        },
        "id": "ec7c884b",
        "outputId": "8397fe67-c9db-41be-dcc5-9cc59ad36e04"
      },
      "outputs": [
        {
          "output_type": "execute_result",
          "data": {
            "text/plain": [
              "13"
            ]
          },
          "metadata": {},
          "execution_count": 42
        }
      ],
      "source": [
        "nums = [2, 1, 6,5,5, 9, 11]\n",
        "ignore_6_to_9(nums)"
      ]
    },
    {
      "cell_type": "markdown",
      "id": "f840235b",
      "metadata": {
        "id": "f840235b"
      },
      "source": [
        "### 13. Write a function ``peace_maker`` that takes in a list of integers and returns True if it contains 002 in order\n",
        "- peace_maker([1,2,4,0,0,2,5]) --> True\n",
        "- peace_maker([1,0,2,4,0,5,2]) --> True\n",
        "- peace_maker([1,7,2,0,4,5,0]) --> False"
      ]
    },
    {
      "cell_type": "code",
      "execution_count": null,
      "id": "faa48c7f",
      "metadata": {
        "id": "faa48c7f"
      },
      "outputs": [],
      "source": [
        "def peace_maker(nums):\n",
        "    flag = False\n",
        "    flag_a = False\n",
        "    for i in nums:\n",
        "        if (i==0 and flag is True):\n",
        "            flag_a = True\n",
        "            continue\n",
        "        elif (i==0):\n",
        "            flag = True\n",
        "            continue\n",
        "        elif (i==2 and flag_a is True):\n",
        "            return True\n",
        "        \n",
        "    return False"
      ]
    },
    {
      "cell_type": "code",
      "execution_count": null,
      "id": "5cdee1eb",
      "metadata": {
        "colab": {
          "base_uri": "https://localhost:8080/"
        },
        "id": "5cdee1eb",
        "outputId": "57dea08b-b4a2-4485-e83b-d34f35e6b863"
      },
      "outputs": [
        {
          "output_type": "execute_result",
          "data": {
            "text/plain": [
              "True"
            ]
          },
          "metadata": {},
          "execution_count": 47
        }
      ],
      "source": [
        "nums = [1,2,4,0,1,0,2,5,0,0]\n",
        "peace_maker(nums)"
      ]
    },
    {
      "cell_type": "markdown",
      "id": "0f253d21",
      "metadata": {
        "id": "0f253d21"
      },
      "source": [
        "### 14. Write a function ``how_many_primes`` that returns the number of prime numbers that exist up to and including a given number\n",
        "- how_many_primes(100) --> 25"
      ]
    },
    {
      "cell_type": "code",
      "execution_count": null,
      "id": "3c7e9eeb",
      "metadata": {
        "id": "3c7e9eeb"
      },
      "outputs": [],
      "source": [
        "def how_many_primes(a, b):\n",
        "    count = 0\n",
        "    primes = []\n",
        "    for i in range(2, b + 1):\n",
        "        for j in primes:\n",
        "            if i % j == 0:\n",
        "                break\n",
        "        else:\n",
        "            primes.append(i)\n",
        "            if i >= a:\n",
        "                count += 1\n",
        "    return count"
      ]
    },
    {
      "cell_type": "code",
      "execution_count": null,
      "id": "cc746ec4",
      "metadata": {
        "colab": {
          "base_uri": "https://localhost:8080/"
        },
        "id": "cc746ec4",
        "outputId": "788f9569-ecab-46d8-bbf0-04b912c50efa"
      },
      "outputs": [
        {
          "output_type": "execute_result",
          "data": {
            "text/plain": [
              "25"
            ]
          },
          "metadata": {},
          "execution_count": 50
        }
      ],
      "source": [
        "how_many_primes(1,100)"
      ]
    },
    {
      "cell_type": "markdown",
      "id": "f30d5694",
      "metadata": {
        "id": "f30d5694"
      },
      "source": [
        "###  15. Write a function ``print_bigger`` that takes in a single letter, and returns a 5x5 representation of that letter\n",
        "    print_bigger('a')\n",
        "    \n",
        "    out:   *  \n",
        "          * *\n",
        "         *****\n",
        "         *   *\n",
        "         *   *\n",
        "HINT: Consider making a dictionary of possible patterns, and mapping the alphabet to specific 5-line combinations of patterns. \n",
        "#### For purposes of this exercise, it's ok if your dictionary stops at \"D\".\n",
        ". "
      ]
    },
    {
      "cell_type": "code",
      "execution_count": null,
      "id": "2f800ff0",
      "metadata": {
        "id": "2f800ff0"
      },
      "outputs": [],
      "source": [
        "def Print_bigger():\n",
        "    n = 5\n",
        "    for i in range(n-3):\n",
        "        for j in range(n - i-3):\n",
        "            print(' ', end='')\n",
        "        for j in range(2* i + 1):\n",
        "            if j % 2 == 0:\n",
        "                print('*', end='')\n",
        "            else:\n",
        "                print(' ', end='')\n",
        "        print()\n",
        "        #downward line\n",
        "    for i in range(n):\n",
        "        print('*', end = '')\n",
        "    print()\n",
        "    #downward bars\n",
        "    for i in range(n-3):\n",
        "        for j in range(5):\n",
        "            if j != 0 and j != 4:\n",
        "                print(' ', end = '')\n",
        "            else:\n",
        "                print('*', end = '')\n",
        "        print()"
      ]
    },
    {
      "cell_type": "code",
      "execution_count": null,
      "id": "1bd44c9c",
      "metadata": {
        "colab": {
          "base_uri": "https://localhost:8080/"
        },
        "id": "1bd44c9c",
        "outputId": "52de3aa5-21e7-4854-95f9-17de2852c01b"
      },
      "outputs": [
        {
          "output_type": "stream",
          "name": "stdout",
          "text": [
            "  *\n",
            " * *\n",
            "*****\n",
            "*   *\n",
            "*   *\n"
          ]
        }
      ],
      "source": [
        "Print_bigger()"
      ]
    },
    {
      "cell_type": "markdown",
      "id": "07ae1f4b",
      "metadata": {
        "id": "07ae1f4b"
      },
      "source": [
        "### 16. Write a Python function that prints out the first n rows of Pascal's triangle.\n",
        "\n",
        "- Input : 5\n",
        "- Output: \n",
        "          1\n",
        "         1 1\n",
        "        1 2 1\n",
        "       1 3 3 1\n",
        "      1 4 6 4 1"
      ]
    },
    {
      "cell_type": "code",
      "execution_count": null,
      "id": "fe2a72d3",
      "metadata": {
        "id": "fe2a72d3"
      },
      "outputs": [],
      "source": [
        "def patt_16(n) :\n",
        "    for i in range(n):\n",
        "        print(' '*(n-i), end='')\n",
        "        \n",
        "        print(' '.join(map(str, str(11**i))))"
      ]
    },
    {
      "cell_type": "code",
      "execution_count": null,
      "id": "7c6e6284",
      "metadata": {
        "colab": {
          "base_uri": "https://localhost:8080/"
        },
        "id": "7c6e6284",
        "outputId": "69f4d739-3926-48e1-e141-09535cbf2748"
      },
      "outputs": [
        {
          "output_type": "stream",
          "name": "stdout",
          "text": [
            "     1\n",
            "    1 1\n",
            "   1 2 1\n",
            "  1 3 3 1\n",
            " 1 4 6 4 1\n"
          ]
        }
      ],
      "source": [
        "patt_16(5)"
      ]
    },
    {
      "cell_type": "markdown",
      "id": "553b4bae",
      "metadata": {
        "id": "553b4bae"
      },
      "source": [
        "### 17. Write a function to print following pattern\n",
        "\n",
        "    5 5 5 5 5 \n",
        "    5 5 5 5 \n",
        "    5 5 5 \n",
        "    5 5 \n",
        "    5"
      ]
    },
    {
      "cell_type": "code",
      "execution_count": null,
      "id": "66e57e87",
      "metadata": {
        "id": "66e57e87"
      },
      "outputs": [],
      "source": [
        "def patt_17():\n",
        "    n = 5\n",
        "    for i in range(n):\n",
        "        for j in range(n - i):\n",
        "            print(n, end=' ')\n",
        "        print()"
      ]
    },
    {
      "cell_type": "code",
      "execution_count": null,
      "id": "86f6e02a",
      "metadata": {
        "colab": {
          "base_uri": "https://localhost:8080/"
        },
        "id": "86f6e02a",
        "outputId": "247a3fe0-1f6a-4d48-f7ba-cfbc5ed883b3"
      },
      "outputs": [
        {
          "output_type": "stream",
          "name": "stdout",
          "text": [
            "5 5 5 5 5 \n",
            "5 5 5 5 \n",
            "5 5 5 \n",
            "5 5 \n",
            "5 \n"
          ]
        }
      ],
      "source": [
        "patt_17()"
      ]
    },
    {
      "cell_type": "markdown",
      "id": "6ca79aab",
      "metadata": {
        "id": "6ca79aab"
      },
      "source": [
        "### 18. Write a function to print following pattern\n",
        "    1  \n",
        "    2 2  \n",
        "    3 3 3  \n",
        "    4 4 4 4  \n",
        "    5 5 5 5 5"
      ]
    },
    {
      "cell_type": "code",
      "execution_count": null,
      "id": "d25c3ff3",
      "metadata": {
        "id": "d25c3ff3"
      },
      "outputs": [],
      "source": [
        "def patt_18():\n",
        "    n = 5\n",
        "    for i in range(1,n+1):\n",
        "        for j in range(1,i+1):\n",
        "            print(i, end = ' ')\n",
        "        print()"
      ]
    },
    {
      "cell_type": "code",
      "execution_count": null,
      "id": "ced6059a",
      "metadata": {
        "id": "ced6059a",
        "outputId": "d59bd769-c333-4295-8654-8dec535840bd"
      },
      "outputs": [
        {
          "name": "stdout",
          "output_type": "stream",
          "text": [
            "1 \n",
            "2 2 \n",
            "3 3 3 \n",
            "4 4 4 4 \n",
            "5 5 5 5 5 \n"
          ]
        }
      ],
      "source": [
        "patt_18()"
      ]
    },
    {
      "cell_type": "markdown",
      "id": "d4f07de2",
      "metadata": {
        "id": "d4f07de2"
      },
      "source": [
        "### 19. Write a function to print following pattern\n",
        "\n",
        "    1 \n",
        "    1 2 \n",
        "    1 2 3 \n",
        "    1 2 3 4 \n",
        "    1 2 3 4 5"
      ]
    },
    {
      "cell_type": "code",
      "execution_count": null,
      "id": "09c852be",
      "metadata": {
        "id": "09c852be"
      },
      "outputs": [],
      "source": [
        "def patt_19():\n",
        "    n = 5\n",
        "    for i in range(1,n+1):\n",
        "        for j in range(1,i+1):\n",
        "            print(j, end = ' ')\n",
        "        print()"
      ]
    },
    {
      "cell_type": "code",
      "execution_count": null,
      "id": "05da041a",
      "metadata": {
        "id": "05da041a",
        "outputId": "dad00c87-9079-4a77-ce75-831ffbe14d91"
      },
      "outputs": [
        {
          "name": "stdout",
          "output_type": "stream",
          "text": [
            "1 \n",
            "1 2 \n",
            "1 2 3 \n",
            "1 2 3 4 \n",
            "1 2 3 4 5 \n"
          ]
        }
      ],
      "source": [
        "patt_19()"
      ]
    },
    {
      "cell_type": "markdown",
      "id": "97d4b33e",
      "metadata": {
        "id": "97d4b33e"
      },
      "source": [
        "### 20. Write a function to print following pattern\n",
        "\n",
        "    0 1 2 3 4 5 \n",
        "    0 1 2 3 4 \n",
        "    0 1 2 3 \n",
        "    0 1 2 \n",
        "    0 1"
      ]
    },
    {
      "cell_type": "code",
      "execution_count": null,
      "id": "ea87a720",
      "metadata": {
        "id": "ea87a720"
      },
      "outputs": [],
      "source": [
        "def patt_20():\n",
        "    n = 5\n",
        "    for i in range(n+1):\n",
        "        for j in range((n+1) - i):\n",
        "            print(j, end=' ')\n",
        "        print()"
      ]
    },
    {
      "cell_type": "code",
      "execution_count": null,
      "id": "c4e1c1c0",
      "metadata": {
        "id": "c4e1c1c0",
        "outputId": "0690dc7f-7871-407b-bce4-12f814f9b84b"
      },
      "outputs": [
        {
          "name": "stdout",
          "output_type": "stream",
          "text": [
            "0 1 2 3 4 5 \n",
            "0 1 2 3 4 \n",
            "0 1 2 3 \n",
            "0 1 2 \n",
            "0 1 \n",
            "0 \n"
          ]
        }
      ],
      "source": [
        "patt_20()"
      ]
    },
    {
      "cell_type": "markdown",
      "id": "e2837c6b",
      "metadata": {
        "id": "e2837c6b"
      },
      "source": [
        "### 21. Write a function to print following pattern\n",
        "\n",
        "    1 2 3 4 5 \n",
        "    2 2 3 4 5 \n",
        "    3 3 3 4 5 \n",
        "    4 4 4 4 5 \n",
        "    5 5 5 5 5"
      ]
    },
    {
      "cell_type": "code",
      "execution_count": null,
      "id": "12106d42",
      "metadata": {
        "id": "12106d42"
      },
      "outputs": [],
      "source": [
        "def patt_21():\n",
        "    n = 6\n",
        "    k = 1\n",
        "    for i in range(0,n):\n",
        "        for j in range(0,i):\n",
        "            print(i, end = ' ')\n",
        "        for k in range(i+1,n):\n",
        "            print(k, end = ' ')\n",
        "        print()   "
      ]
    },
    {
      "cell_type": "code",
      "execution_count": null,
      "id": "2c745681",
      "metadata": {
        "colab": {
          "base_uri": "https://localhost:8080/"
        },
        "id": "2c745681",
        "outputId": "d63fc4a7-b451-4b34-8f32-3579da18bb88"
      },
      "outputs": [
        {
          "output_type": "stream",
          "name": "stdout",
          "text": [
            "1 2 3 4 5 \n",
            "1 2 3 4 5 \n",
            "2 2 3 4 5 \n",
            "3 3 3 4 5 \n",
            "4 4 4 4 5 \n",
            "5 5 5 5 5 \n"
          ]
        }
      ],
      "source": [
        "patt_21()"
      ]
    },
    {
      "cell_type": "markdown",
      "id": "a29a4d6a",
      "metadata": {
        "id": "a29a4d6a"
      },
      "source": [
        "### 22. Write a function to print following pattern\n",
        "              1 \n",
        "            1 2 \n",
        "          1 2 3 \n",
        "        1 2 3 4 \n",
        "      1 2 3 4 5 "
      ]
    },
    {
      "cell_type": "code",
      "execution_count": null,
      "id": "1ed7fc06",
      "metadata": {
        "id": "1ed7fc06"
      },
      "outputs": [],
      "source": [
        "def patt_22() :\n",
        "    n = 6\n",
        "    for i in range(1,n) :\n",
        "        for j in range (0,n-i):\n",
        "            print(' ', end = ' ')\n",
        "        for k in range (1,i+1):\n",
        "            print(k, end = ' ')\n",
        "        print()"
      ]
    },
    {
      "cell_type": "code",
      "execution_count": null,
      "id": "9f1aceb0",
      "metadata": {
        "colab": {
          "base_uri": "https://localhost:8080/"
        },
        "id": "9f1aceb0",
        "outputId": "5c312815-84de-40d7-d39b-a55dade662e4"
      },
      "outputs": [
        {
          "output_type": "stream",
          "name": "stdout",
          "text": [
            "          1 \n",
            "        1 2 \n",
            "      1 2 3 \n",
            "    1 2 3 4 \n",
            "  1 2 3 4 5 \n"
          ]
        }
      ],
      "source": [
        "patt_22()"
      ]
    },
    {
      "cell_type": "markdown",
      "id": "14845085",
      "metadata": {
        "id": "14845085"
      },
      "source": [
        "### 23. Write a function to print following pattern\n",
        "\n",
        "    1  \n",
        "    2  4  \n",
        "    3  6  9  \n",
        "    4  8  12  16  \n",
        "    5  10  15  20  25  \n",
        "    6  12  18  24  30  36  \n",
        "    7  14  21  28  35  42  49  \n",
        "    8  16  24  32  40  48  56  64  "
      ]
    },
    {
      "cell_type": "code",
      "execution_count": null,
      "id": "8ba74983",
      "metadata": {
        "colab": {
          "base_uri": "https://localhost:8080/"
        },
        "id": "8ba74983",
        "outputId": "93ea186f-1e65-42fb-e655-f361a708df5e"
      },
      "outputs": [
        {
          "output_type": "stream",
          "name": "stdout",
          "text": [
            "1  \n",
            "2  4  \n",
            "3  6  9  \n",
            "4  8  12  16  \n",
            "5  10  15  20  25  \n",
            "6  12  18  24  30  36  \n",
            "7  14  21  28  35  42  49  \n",
            "8  16  24  32  40  48  56  64  \n"
          ]
        }
      ],
      "source": [
        "n  = 8\n",
        "i = 1\n",
        "while i <= n :\n",
        "    j = i\n",
        "    while j <= i * i :\n",
        "        print(j, end = '  ')\n",
        "        j = j + i\n",
        "        \n",
        "    print()\n",
        "    \n",
        "    i = i+1"
      ]
    },
    {
      "cell_type": "markdown",
      "id": "e7393340",
      "metadata": {
        "id": "e7393340"
      },
      "source": [
        "### 24. Write a function to print following pattern\n",
        "    *  \n",
        "    * *  \n",
        "    * * *  \n",
        "    * * * *  \n",
        "    * * * * *  \n",
        "    * * * * * *  \n",
        "\n",
        "    * * * * * *  \n",
        "    * * * * *  \n",
        "    * * * *  \n",
        "    * * *  \n",
        "    * *  \n",
        "    *"
      ]
    },
    {
      "cell_type": "code",
      "execution_count": null,
      "id": "bdd261ac",
      "metadata": {
        "id": "bdd261ac"
      },
      "outputs": [],
      "source": [
        "def patt_24():\n",
        "    n = 7\n",
        "    for i in range(1,n+1):\n",
        "        for j in range(1,i+1):\n",
        "            print('*', end = ' ')\n",
        "        print()\n",
        "    print()\n",
        "    for i in range(n):\n",
        "        for j in range(n - i):\n",
        "            print('*', end=' ')\n",
        "        print()\n",
        "        "
      ]
    },
    {
      "cell_type": "code",
      "execution_count": null,
      "id": "376b870c",
      "metadata": {
        "colab": {
          "base_uri": "https://localhost:8080/"
        },
        "id": "376b870c",
        "outputId": "172a8272-7e50-4bfc-d845-e4d2a8c56e80"
      },
      "outputs": [
        {
          "output_type": "stream",
          "name": "stdout",
          "text": [
            "* \n",
            "* * \n",
            "* * * \n",
            "* * * * \n",
            "* * * * * \n",
            "* * * * * * \n",
            "* * * * * * * \n",
            "\n",
            "* * * * * * * \n",
            "* * * * * * \n",
            "* * * * * \n",
            "* * * * \n",
            "* * * \n",
            "* * \n",
            "* \n"
          ]
        }
      ],
      "source": [
        "patt_24()"
      ]
    },
    {
      "cell_type": "markdown",
      "id": "8a184aaf",
      "metadata": {
        "id": "8a184aaf"
      },
      "source": [
        "### 25. Write a function to print following pattern\n",
        "    * * * * * \n",
        "     * * * * \n",
        "      * * * \n",
        "       * * \n",
        "        * \n",
        "        * \n",
        "       * * \n",
        "      * * * \n",
        "     * * * * \n",
        "    * * * * * "
      ]
    },
    {
      "cell_type": "code",
      "execution_count": null,
      "id": "9b8fd433",
      "metadata": {
        "id": "9b8fd433"
      },
      "outputs": [],
      "source": [
        "def Patt_25():\n",
        "    n = 5\n",
        "    for i in range(n):\n",
        "        print(\" \"*(i+1),end=\"\") \n",
        "        for j in range(n-i):  \n",
        "            print(\"* \",end=\"\")\n",
        "        print()\n",
        "    for i in range(n):\n",
        "        print(\" \"*(n-i),end=\"\") \n",
        "        for j in range(i+1):\n",
        "            print(\"* \",end=\"\") \n",
        "        print()"
      ]
    },
    {
      "cell_type": "code",
      "execution_count": null,
      "id": "baa3bf62",
      "metadata": {
        "scrolled": true,
        "colab": {
          "base_uri": "https://localhost:8080/"
        },
        "id": "baa3bf62",
        "outputId": "02a2b288-8e8e-4710-9e41-24d38b156e62"
      },
      "outputs": [
        {
          "output_type": "stream",
          "name": "stdout",
          "text": [
            " * * * * * \n",
            "  * * * * \n",
            "   * * * \n",
            "    * * \n",
            "     * \n",
            "     * \n",
            "    * * \n",
            "   * * * \n",
            "  * * * * \n",
            " * * * * * \n"
          ]
        }
      ],
      "source": [
        "Patt_25()"
      ]
    },
    {
      "cell_type": "markdown",
      "id": "52153e71",
      "metadata": {
        "id": "52153e71"
      },
      "source": [
        "# Great work!!"
      ]
    }
  ],
  "metadata": {
    "kernelspec": {
      "display_name": "Python 3 (ipykernel)",
      "language": "python",
      "name": "python3"
    },
    "language_info": {
      "codemirror_mode": {
        "name": "ipython",
        "version": 3
      },
      "file_extension": ".py",
      "mimetype": "text/x-python",
      "name": "python",
      "nbconvert_exporter": "python",
      "pygments_lexer": "ipython3",
      "version": "3.9.7"
    },
    "colab": {
      "provenance": []
    }
  },
  "nbformat": 4,
  "nbformat_minor": 5
}